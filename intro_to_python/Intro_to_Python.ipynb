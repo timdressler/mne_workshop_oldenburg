{
 "cells": [
  {
   "cell_type": "markdown",
   "id": "71d32fba",
   "metadata": {},
   "source": [
    "# Intro to Python \n",
    "\n",
    "    Authors: Britta Westner\n",
    "    License: BSD (3-clause)\n",
    "\n",
    "\n",
    "Welcome to this Python introduction! \n",
    "\n",
    "Let's explore Python together - with a special focus on MATLAB users. This will set you up to follow an introduction to MNE-Python afterwards.\n",
    "\n",
    "In the first part, we will explore some basic principles of Python together, with short exercise and questions for you. In later parts, some more complex exercises are waiting for you!\n"
   ]
  },
  {
   "cell_type": "markdown",
   "id": "69938151",
   "metadata": {},
   "source": [
    "## Where to start?\n",
    "\n",
    "Of course with \"Hello World\". :)\n",
    "\n",
    "Below you can see how we can define and print a string. Really not that different from MATLAB!\n",
    "\n",
    "Click the cell an execute it to see what the output is!\n"
   ]
  },
  {
   "cell_type": "code",
   "execution_count": 4,
   "id": "58e0859e",
   "metadata": {},
   "outputs": [
    {
     "name": "stdout",
     "output_type": "stream",
     "text": [
      "Hello World!\n"
     ]
    }
   ],
   "source": [
    "hello_msg = \"Hello World!\"\n",
    "print(hello_msg)"
   ]
  },
  {
   "cell_type": "markdown",
   "id": "d319ea54",
   "metadata": {},
   "source": [
    "## Indexing and slicing\n",
    "\n",
    "Well, here comes the first inconvenient thing for MATLAB users: Python (as many, many programming languages) is zero-indexed. \n",
    "\n",
    "Indexing further uses square bracket `[]`. Use this information for the following exercises:\n",
    "\n",
    "<div class=\"alert alert-success\">\n",
    "    <b>EXERCISE</b>:\n",
    "     <ul>\n",
    "    <li> Can you print the first letter of our \"Hello World\" string from above?</li>\n",
    "    <li> And what about the seventh one?</li>\n",
    "    <li> MATLAB's \"end\" is a -1 in Python. Can you get the last element of the string?</li>\n",
    "     </ul>\n",
    "</div>"
   ]
  },
  {
   "cell_type": "code",
   "execution_count": 5,
   "id": "4356cf30",
   "metadata": {},
   "outputs": [
    {
     "name": "stdout",
     "output_type": "stream",
     "text": [
      "H\n",
      "W\n",
      "!\n"
     ]
    }
   ],
   "source": [
    "# Answer:\n",
    "print(hello_msg[0])\n",
    "print(hello_msg[6])\n",
    "print(hello_msg[-1])"
   ]
  },
  {
   "cell_type": "markdown",
   "id": "d925b81c",
   "metadata": {},
   "source": [
    "Indexing can also be done using _slicing_. That means we do not query single values but select whole slices of the object.\n",
    "\n",
    "Slice notation can look like this:\n",
    "- `a[start:stop]`\n",
    "- `a[start:stop:step]`   \n",
    "\n",
    "There are some subtle differences from MATLAB. \n",
    "\n",
    "<div class=\"alert alert-success\">\n",
    "    <b>EXERCISE</b>:\n",
    "     <ul>\n",
    "    <li> Play around with this notation using our \"Hello World\" string. What is different from MATLAB?</li>\n",
    "     </ul>\n",
    "</div>\n",
    "\n",
    "\n"
   ]
  },
  {
   "cell_type": "code",
   "execution_count": 6,
   "id": "cc21b364",
   "metadata": {},
   "outputs": [
    {
     "name": "stdout",
     "output_type": "stream",
     "text": [
      "Hlo\n"
     ]
    }
   ],
   "source": [
    "# Answer:\n",
    "print(hello_msg[0:5:2])"
   ]
  },
  {
   "cell_type": "markdown",
   "id": "e142bf85",
   "metadata": {},
   "source": [
    "You can also drop values from this notation that are a given, e.g. when starting at 0 or when going all the way to the end. Then you just write a `:` to replace the value.\n",
    "\n",
    "<div class=\"alert alert-warning\">\n",
    "    <b>QUESTION</b>:\n",
    "     <ul>\n",
    "    <li> What do you expect this message to spell: print(hello_msg[::3]) ?</li>\n",
    "     </ul>\n",
    "</div>"
   ]
  },
  {
   "cell_type": "code",
   "execution_count": 7,
   "id": "9443173c",
   "metadata": {},
   "outputs": [
    {
     "name": "stdout",
     "output_type": "stream",
     "text": [
      "HlWl\n"
     ]
    }
   ],
   "source": [
    "# Answer:\n",
    "print(hello_msg[::3])"
   ]
  },
  {
   "cell_type": "markdown",
   "id": "c8d3a66e",
   "metadata": {},
   "source": [
    "You can also add strings together - just like numbers.\n"
   ]
  },
  {
   "cell_type": "code",
   "execution_count": 8,
   "id": "b43d5efe",
   "metadata": {},
   "outputs": [
    {
     "data": {
      "text/plain": [
       "5"
      ]
     },
     "execution_count": 8,
     "metadata": {},
     "output_type": "execute_result"
    }
   ],
   "source": [
    "# Python adds numbers ...\n",
    "4 + 1"
   ]
  },
  {
   "cell_type": "code",
   "execution_count": 9,
   "id": "41f00a40",
   "metadata": {},
   "outputs": [
    {
     "name": "stdout",
     "output_type": "stream",
     "text": [
      "Hello World!!!!\n"
     ]
    }
   ],
   "source": [
    "# ... or strings!\n",
    "new_msg = hello_msg + \"!!!\"\n",
    "print(new_msg)"
   ]
  },
  {
   "cell_type": "markdown",
   "id": "7ee12772",
   "metadata": {},
   "source": [
    "<div class=\"alert alert-success\">\n",
    "    <b>EXERCISE</b>:\n",
    "     <ul>\n",
    "    <li> Using slicing and the adding strings, can you make our message read \"Hello beautiful Python World!\" ?</li>\n",
    "     </ul>\n",
    "</div>\n"
   ]
  },
  {
   "cell_type": "code",
   "execution_count": 10,
   "id": "f4ae85d7",
   "metadata": {},
   "outputs": [
    {
     "name": "stdout",
     "output_type": "stream",
     "text": [
      "Hello beautiful Python World!\n"
     ]
    }
   ],
   "source": [
    "# Answer:\n",
    "new_msg2 = new_msg[:6] + \"beautiful Python\" + new_msg[5:-3]\n",
    "print(new_msg2)"
   ]
  },
  {
   "cell_type": "markdown",
   "id": "77220826",
   "metadata": {},
   "source": [
    "## Lists\n",
    "\n",
    "Python uses lists (a lot). There is no direct equivalent of lists in MATLAB - the closest are probably cells. But fear not, lists are way easier to handle! \n",
    "\n",
    "Let's look at some examples.\n",
    "\n",
    "You can make a list by using the square brackets:"
   ]
  },
  {
   "cell_type": "code",
   "execution_count": 11,
   "id": "63e9a359",
   "metadata": {},
   "outputs": [],
   "source": [
    "my_list = [1, 3, 7]  # I am not a vector (or matrix)!"
   ]
  },
  {
   "cell_type": "markdown",
   "id": "e0cb93e1",
   "metadata": {},
   "source": [
    "We can query the type of an object by using `type()`:"
   ]
  },
  {
   "cell_type": "code",
   "execution_count": 12,
   "id": "d2924d3b",
   "metadata": {},
   "outputs": [
    {
     "data": {
      "text/plain": [
       "list"
      ]
     },
     "execution_count": 12,
     "metadata": {},
     "output_type": "execute_result"
    }
   ],
   "source": [
    "type(my_list)"
   ]
  },
  {
   "cell_type": "markdown",
   "id": "67adf224",
   "metadata": {},
   "source": [
    "<div class=\"alert alert-success\">\n",
    "    <b>EXERCISE</b>:\n",
    "     <ul>\n",
    "    <li> Can you verify that our message from above is a string?</li>\n",
    "     </ul>\n",
    "</div>"
   ]
  },
  {
   "cell_type": "code",
   "execution_count": 13,
   "id": "e128608b",
   "metadata": {},
   "outputs": [
    {
     "data": {
      "text/plain": [
       "str"
      ]
     },
     "execution_count": 13,
     "metadata": {},
     "output_type": "execute_result"
    }
   ],
   "source": [
    "# Answer:\n",
    "type(new_msg2)\n"
   ]
  },
  {
   "cell_type": "markdown",
   "id": "2c0e1184",
   "metadata": {},
   "source": [
    "Lists do not have to only contain one type of variable. You can mix and match!\n",
    "\n",
    "The last element in the list below is called a **tuple**, a sequence of numbers (you can think of it like a list for numbers only).\n"
   ]
  },
  {
   "cell_type": "code",
   "execution_count": 14,
   "id": "89cc62b8",
   "metadata": {},
   "outputs": [
    {
     "name": "stdout",
     "output_type": "stream",
     "text": [
      "[16, 'a', 20.5, 'Python does not care about mixing in lists.', (5, 6)]\n"
     ]
    }
   ],
   "source": [
    "my_new_list = [16, \"a\", 20.5, \"Python does not care about mixing in lists.\", (5, 6)]\n",
    "print(my_new_list)"
   ]
  },
  {
   "cell_type": "markdown",
   "id": "b1ff70f2",
   "metadata": {},
   "source": [
    "You can add lists together - it will join them.\n",
    "\n",
    "You can also multiply lists - it will repeat them."
   ]
  },
  {
   "cell_type": "code",
   "execution_count": 15,
   "id": "fe2ccc95",
   "metadata": {},
   "outputs": [
    {
     "name": "stdout",
     "output_type": "stream",
     "text": [
      "[1, 3, 7, 16, 'a', 20.5, 'Python does not care about mixing in lists.', (5, 6)]\n"
     ]
    }
   ],
   "source": [
    "my_big_list = my_list + my_new_list\n",
    "print(my_big_list)"
   ]
  },
  {
   "cell_type": "code",
   "execution_count": 16,
   "id": "b3806470",
   "metadata": {},
   "outputs": [
    {
     "name": "stdout",
     "output_type": "stream",
     "text": [
      "[1, 3, 7, 1, 3, 7, 1, 3, 7]\n"
     ]
    }
   ],
   "source": [
    "print(3 * my_list)"
   ]
  },
  {
   "cell_type": "markdown",
   "id": "e3527c4d",
   "metadata": {},
   "source": [
    "And just for the fun of it: you can also add lists to lists. That is called a **nested list** and can look a bit confusing:"
   ]
  },
  {
   "cell_type": "code",
   "execution_count": 17,
   "id": "bf2412e3",
   "metadata": {},
   "outputs": [
    {
     "name": "stdout",
     "output_type": "stream",
     "text": [
      "['a', 'b', [1, ['what?', 'this is confusing'], 3]]\n"
     ]
    }
   ],
   "source": [
    "nested_list = ['a', 'b', [1, ['what?', 'this is confusing'], 3]]\n",
    "print(nested_list)"
   ]
  },
  {
   "cell_type": "markdown",
   "id": "05a88436",
   "metadata": {},
   "source": [
    "<div class=\"alert alert-success\">\n",
    "    <b>EXERCISE</b>:\n",
    "     <ul>\n",
    "     <li> How long is this nested list? Verify your guess using len().</li>\n",
    "    <li> Can you index the \"what?\" in the nested list?</li>\n",
    "     </ul>\n",
    "</div>"
   ]
  },
  {
   "cell_type": "code",
   "execution_count": 18,
   "id": "659ef617",
   "metadata": {},
   "outputs": [
    {
     "name": "stdout",
     "output_type": "stream",
     "text": [
      "3\n",
      "[1, ['what?', 'this is confusing'], 3]\n",
      "what?\n"
     ]
    }
   ],
   "source": [
    "# Answer:\n",
    "print(len(nested_list))\n",
    "print(nested_list[2])\n",
    "print(nested_list[2][1][0])"
   ]
  },
  {
   "cell_type": "markdown",
   "id": "249222e6",
   "metadata": {},
   "source": [
    "Keep lists in mind, we'll see one of my favourite Python tricks involving lists later! \n"
   ]
  },
  {
   "cell_type": "markdown",
   "id": "76cdcba4",
   "metadata": {},
   "source": [
    "## Modules and arrays\n",
    "\n",
    "Lists are fine, but sometimes - especially in (neuro-)science! - you really need a matrix. In (scientific) Python, we use **NumPy arrays** for that. \n",
    "\n",
    "NumPy (\"Numeric Python\") is a **module** for Python. That is how Python calls \"packages\" or \"toolboxes\". NumPy is part of the scientific Python ecosystem and is together with IPython, SciPy, and Matplotlib one of the most-used modules in sciences.\n",
    "\n",
    "You have to \"load\" those modules before you can use them, in Python that is called **importing**.\n",
    "\n",
    "Let's have a look at ways to do this!\n",
    "\n",
    "### Modules\n"
   ]
  },
  {
   "cell_type": "code",
   "execution_count": 19,
   "id": "aaf4bf69",
   "metadata": {},
   "outputs": [
    {
     "name": "stdout",
     "output_type": "stream",
     "text": [
      "[[1. 0. 0.]\n",
      " [0. 1. 0.]\n",
      " [0. 0. 1.]]\n"
     ]
    }
   ],
   "source": [
    "import numpy  # import the module\n",
    "\n",
    "# now you have to call functions with adding the module name before the function name:\n",
    "eye_mat = numpy.eye(3)\n",
    "print(eye_mat)\n"
   ]
  },
  {
   "cell_type": "markdown",
   "id": "83cddf96",
   "metadata": {},
   "source": [
    "Wait, what is \"eye\"? Let's call for help!\n",
    "The easiest way to do this in IPython is with this synatx: `?function`"
   ]
  },
  {
   "cell_type": "code",
   "execution_count": 20,
   "id": "c9cf1299",
   "metadata": {},
   "outputs": [
    {
     "name": "stdout",
     "output_type": "stream",
     "text": [
      "\u001b[31mSignature:\u001b[39m\n",
      "numpy.eye(\n",
      "    N,\n",
      "    M=\u001b[38;5;28;01mNone\u001b[39;00m,\n",
      "    k=\u001b[32m0\u001b[39m,\n",
      "    dtype=<\u001b[38;5;28;01mclass\u001b[39;00m \u001b[33m'float'\u001b[39m>,\n",
      "    order=\u001b[33m'C'\u001b[39m,\n",
      "    *,\n",
      "    device=\u001b[38;5;28;01mNone\u001b[39;00m,\n",
      "    like=\u001b[38;5;28;01mNone\u001b[39;00m,\n",
      ")\n",
      "\u001b[31mDocstring:\u001b[39m\n",
      "Return a 2-D array with ones on the diagonal and zeros elsewhere.\n",
      "\n",
      "Parameters\n",
      "----------\n",
      "N : int\n",
      "  Number of rows in the output.\n",
      "M : int, optional\n",
      "  Number of columns in the output. If None, defaults to `N`.\n",
      "k : int, optional\n",
      "  Index of the diagonal: 0 (the default) refers to the main diagonal,\n",
      "  a positive value refers to an upper diagonal, and a negative value\n",
      "  to a lower diagonal.\n",
      "dtype : data-type, optional\n",
      "  Data-type of the returned array.\n",
      "order : {'C', 'F'}, optional\n",
      "    Whether the output should be stored in row-major (C-style) or\n",
      "    column-major (Fortran-style) order in memory.\n",
      "device : str, optional\n",
      "    The device on which to place the created array. Default: None.\n",
      "    For Array-API interoperability only, so must be ``\"cpu\"`` if passed.\n",
      "\n",
      "    .. versionadded:: 2.0.0\n",
      "like : array_like, optional\n",
      "        Reference object to allow the creation of arrays which are not\n",
      "        NumPy arrays. If an array-like passed in as ``like`` supports\n",
      "        the ``__array_function__`` protocol, the result will be defined\n",
      "        by it. In this case, it ensures the creation of an array object\n",
      "        compatible with that passed in via this argument.\n",
      "\n",
      "    .. versionadded:: 1.20.0\n",
      "\n",
      "Returns\n",
      "-------\n",
      "I : ndarray of shape (N,M)\n",
      "  An array where all elements are equal to zero, except for the `k`-th\n",
      "  diagonal, whose values are equal to one.\n",
      "\n",
      "See Also\n",
      "--------\n",
      "identity : (almost) equivalent function\n",
      "diag : diagonal 2-D array from a 1-D array specified by the user.\n",
      "\n",
      "Examples\n",
      "--------\n",
      ">>> import numpy as np\n",
      ">>> np.eye(2, dtype=int)\n",
      "array([[1, 0],\n",
      "       [0, 1]])\n",
      ">>> np.eye(3, k=1)\n",
      "array([[0.,  1.,  0.],\n",
      "       [0.,  0.,  1.],\n",
      "       [0.,  0.,  0.]])\n",
      "\u001b[31mFile:\u001b[39m      c:\\users\\timdr\\miniconda3\\envs\\mne\\lib\\site-packages\\numpy\\lib\\_twodim_base_impl.py\n",
      "\u001b[31mType:\u001b[39m      function"
     ]
    }
   ],
   "source": [
    "?numpy.eye"
   ]
  },
  {
   "cell_type": "markdown",
   "id": "e2a093af",
   "metadata": {},
   "source": [
    "Okay, back to importing. \n",
    "\n",
    "Well, that gets a little tedious, doesn't it - `numpy` is a long word (and don't tell me about `matplotlib`)!\n",
    "\n",
    "Good thing you can create an alias!"
   ]
  },
  {
   "cell_type": "code",
   "execution_count": 29,
   "id": "97ad5ad4",
   "metadata": {},
   "outputs": [
    {
     "name": "stdout",
     "output_type": "stream",
     "text": [
      "[[1. 0. 0.]\n",
      " [0. 1. 0.]\n",
      " [0. 0. 1.]]\n"
     ]
    }
   ],
   "source": [
    "import numpy as np  # create alias for usage, np is a standard choice for numpy\n",
    "\n",
    "eye_mat = np.eye(3)\n",
    "print(eye_mat)"
   ]
  },
  {
   "cell_type": "markdown",
   "id": "4918a03d",
   "metadata": {},
   "source": [
    "Handy! But what if I want to do something like this - that does not read very well:"
   ]
  },
  {
   "cell_type": "code",
   "execution_count": 22,
   "id": "efce2976",
   "metadata": {},
   "outputs": [
    {
     "name": "stdout",
     "output_type": "stream",
     "text": [
      "1.0\n"
     ]
    }
   ],
   "source": [
    "print(np.cos(2 * np.pi))"
   ]
  },
  {
   "cell_type": "markdown",
   "id": "e383adb4",
   "metadata": {},
   "source": [
    "Can I maybe do ... \n",
    "\n",
    "```python\n",
    "from numpy import *\n",
    "```\n",
    "\n",
    "... to have all functions available right in the namespace?\n",
    "\n",
    "\n",
    "Yes, you _can_ and this would allow you to write `print(cos(2 * pi))` but you _should not_. \n",
    "\n",
    "Why? First and foremost **namespace collision**: you have no overview of which function and class names get imported that way - and those might also be used by other modules you import the same way or by you when naming variables. Chaos ensues!\n",
    "\n",
    "Instead, consider this:\n"
   ]
  },
  {
   "cell_type": "code",
   "execution_count": 23,
   "id": "d17f127e",
   "metadata": {},
   "outputs": [
    {
     "name": "stdout",
     "output_type": "stream",
     "text": [
      "1.0\n"
     ]
    }
   ],
   "source": [
    "from numpy import cos, pi\n",
    "print(cos(2 * pi))"
   ]
  },
  {
   "cell_type": "markdown",
   "id": "7b3a9251",
   "metadata": {},
   "source": [
    "This way, you are still in control which functions enter your namespace!\n"
   ]
  },
  {
   "cell_type": "markdown",
   "id": "74272ece-5916-41bd-ae16-33645ea32270",
   "metadata": {},
   "source": [
    "### Arrays\n",
    "\n",
    "Now, with this out of the way, let's look at NumPy arrays!"
   ]
  },
  {
   "cell_type": "code",
   "execution_count": 31,
   "id": "2ec42e1c",
   "metadata": {},
   "outputs": [],
   "source": [
    "my_array = np.array([1, 2, 3])  # make array from object"
   ]
  },
  {
   "cell_type": "markdown",
   "id": "a1b8fd5a",
   "metadata": {},
   "source": [
    "Wait! Is that ... a list? Yes! Arrays are made from objects.\n",
    "\n",
    "<div class=\"alert alert-success\">\n",
    "    <b>EXERCISE</b>:\n",
    "     <ul>\n",
    "    <li> Can you make an array from my_list?</li>\n",
    "    <li> What about my_new_list? What do you think is going on?</li>\n",
    "    <li> Make an array from a tuple!\n",
    "     </ul>\n",
    "</div>"
   ]
  },
  {
   "cell_type": "code",
   "execution_count": 33,
   "id": "f4e6486c",
   "metadata": {},
   "outputs": [
    {
     "name": "stdout",
     "output_type": "stream",
     "text": [
      "[1, 3, 7]\n",
      "[1 3 7]\n"
     ]
    },
    {
     "data": {
      "text/plain": [
       "numpy.ndarray"
      ]
     },
     "execution_count": 33,
     "metadata": {},
     "output_type": "execute_result"
    }
   ],
   "source": [
    "# Answer: \n",
    "print(my_list)\n",
    "list_array = np.array(my_list)  \n",
    "print(list_array)\n",
    "type(list_array)"
   ]
  },
  {
   "cell_type": "code",
   "execution_count": 52,
   "id": "3099df54",
   "metadata": {},
   "outputs": [
    {
     "name": "stdout",
     "output_type": "stream",
     "text": [
      "[[1, 2], [3, 4]]\n",
      "[[1 2]\n",
      " [3 4]]\n",
      "(2, 2)\n",
      "[['16' '3']\n",
      " ['a' '2']\n",
      " ['20.5' '3']\n",
      " ['6' '2']]\n",
      "[1, 3, 7, 1, 3, 7]\n"
     ]
    }
   ],
   "source": [
    "list2 = [[1,2], [3,4]]\n",
    "print(list2)\n",
    "print(np.array(list2))\n",
    "print(np.array(list2).shape) \n",
    "\n",
    "my_new_list2 = [(16,3), [\"a\",2], [20.5, 3], (6,2)]\n",
    "my_new_list2_array = np.array(my_new_list2)\n",
    "print(my_new_list2_array)\n",
    "print(my_list + my_list)"
   ]
  },
  {
   "cell_type": "code",
   "execution_count": 26,
   "id": "0dffd0a2",
   "metadata": {},
   "outputs": [
    {
     "name": "stdout",
     "output_type": "stream",
     "text": [
      "[16, 'a', 20.5, 'Python does not care about mixing in lists.', (5, 6)]\n"
     ]
    },
    {
     "ename": "ValueError",
     "evalue": "setting an array element with a sequence. The requested array has an inhomogeneous shape after 1 dimensions. The detected shape was (5,) + inhomogeneous part.",
     "output_type": "error",
     "traceback": [
      "\u001b[31m---------------------------------------------------------------------------\u001b[39m",
      "\u001b[31mValueError\u001b[39m                                Traceback (most recent call last)",
      "\u001b[36mCell\u001b[39m\u001b[36m \u001b[39m\u001b[32mIn[26]\u001b[39m\u001b[32m, line 3\u001b[39m\n\u001b[32m      1\u001b[39m \u001b[38;5;66;03m# Answer: \u001b[39;00m\n\u001b[32m      2\u001b[39m \u001b[38;5;28mprint\u001b[39m(my_new_list)\n\u001b[32m----> \u001b[39m\u001b[32m3\u001b[39m new_list_array = \u001b[43mnp\u001b[49m\u001b[43m.\u001b[49m\u001b[43marray\u001b[49m\u001b[43m(\u001b[49m\u001b[43mmy_new_list\u001b[49m\u001b[43m)\u001b[49m  \n\u001b[32m      4\u001b[39m \u001b[38;5;28mprint\u001b[39m(new_list_array)\n\u001b[32m      5\u001b[39m \u001b[38;5;28mtype\u001b[39m(new_list_array)\n",
      "\u001b[31mValueError\u001b[39m: setting an array element with a sequence. The requested array has an inhomogeneous shape after 1 dimensions. The detected shape was (5,) + inhomogeneous part."
     ]
    }
   ],
   "source": [
    "# Answer: \n",
    "print(my_new_list)\n",
    "new_list_array = np.array(my_new_list)  \n",
    "print(new_list_array)\n",
    "type(new_list_array)"
   ]
  },
  {
   "cell_type": "code",
   "execution_count": 32,
   "id": "1719da58",
   "metadata": {},
   "outputs": [
    {
     "name": "stdout",
     "output_type": "stream",
     "text": [
      "[1 2 3]\n",
      "<class 'numpy.ndarray'>\n"
     ]
    }
   ],
   "source": [
    "# Answer:\n",
    "import numpy as np \n",
    "my_tup = (1,2,3)\n",
    "tup_array = np.array(my_tup)\n",
    "print(tup_array)\n",
    "print(type(tup_array))"
   ]
  },
  {
   "cell_type": "markdown",
   "id": "3439b7a4",
   "metadata": {},
   "source": [
    "Vectors are boring. Let's make a bigger array!"
   ]
  },
  {
   "cell_type": "code",
   "execution_count": 38,
   "id": "68ae7468",
   "metadata": {},
   "outputs": [
    {
     "name": "stdout",
     "output_type": "stream",
     "text": [
      "[[3 4 5]\n",
      " [2 3 4]\n",
      " [1 2 3]]\n"
     ]
    }
   ],
   "source": [
    "my_matrix = np.array([[3, 4, 5], [2, 3, 4], [1, 2, 3]])  # a nested list :-o\n",
    "print(my_matrix)"
   ]
  },
  {
   "cell_type": "markdown",
   "id": "b3d3607d",
   "metadata": {},
   "source": [
    "Slicing works here too!\n"
   ]
  },
  {
   "cell_type": "code",
   "execution_count": 40,
   "id": "b77a205d",
   "metadata": {},
   "outputs": [
    {
     "name": "stdout",
     "output_type": "stream",
     "text": [
      "[3 2 1]\n",
      "[[3 5]\n",
      " [2 4]\n",
      " [1 3]]\n"
     ]
    }
   ],
   "source": [
    "print(my_matrix[:, 0])  # slice: first column - similar to MATLAB\n",
    "print(my_matrix[:,::2])"
   ]
  },
  {
   "cell_type": "markdown",
   "id": "b90143da",
   "metadata": {},
   "source": [
    "Using NumPy functions, we can also stack arrays. Here, we stack two versions of our matrix, one of them we multiply by four.\n",
    "\n",
    "We can query the size of a matrix with the function `shape`. \n"
   ]
  },
  {
   "cell_type": "code",
   "execution_count": 44,
   "id": "ad15e415",
   "metadata": {},
   "outputs": [
    {
     "name": "stdout",
     "output_type": "stream",
     "text": [
      "[[ 3  4  5]\n",
      " [ 2  3  4]\n",
      " [ 1  2  3]\n",
      " [12 16 20]\n",
      " [ 8 12 16]\n",
      " [ 4  8 12]]\n",
      "(6, 3)\n"
     ]
    }
   ],
   "source": [
    "my_bigger_matrix = np.vstack((my_matrix, my_matrix * 4))\n",
    "print(my_bigger_matrix)\n",
    "print(my_bigger_matrix.shape)\n"
   ]
  },
  {
   "cell_type": "markdown",
   "id": "ee160028",
   "metadata": {},
   "source": [
    "## We have to talk about mutability\n",
    "\n",
    "(And about the concept of pass-by-reference, but one after the other.)\n",
    "\n",
    "Python has mutable and immutable objects. Mutable means \"can be manipulated\". \n",
    "\n",
    "<div class=\"alert alert-success\">\n",
    "    <b>EXERCISE</b>:\n",
    "     <ul>\n",
    "     <li> Create a string that reads \"mutation\" and change the m to a w after creation. Do you succeed?</li>\n",
    "     </ul>\n",
    "</div>"
   ]
  },
  {
   "cell_type": "code",
   "execution_count": 53,
   "id": "8529ce78",
   "metadata": {},
   "outputs": [
    {
     "ename": "TypeError",
     "evalue": "'str' object does not support item assignment",
     "output_type": "error",
     "traceback": [
      "\u001b[31m---------------------------------------------------------------------------\u001b[39m",
      "\u001b[31mTypeError\u001b[39m                                 Traceback (most recent call last)",
      "\u001b[36mCell\u001b[39m\u001b[36m \u001b[39m\u001b[32mIn[53]\u001b[39m\u001b[32m, line 3\u001b[39m\n\u001b[32m      1\u001b[39m \u001b[38;5;66;03m# Answer: \u001b[39;00m\n\u001b[32m      2\u001b[39m mut_string = \u001b[33m\"\u001b[39m\u001b[33mmutation\u001b[39m\u001b[33m\"\u001b[39m\n\u001b[32m----> \u001b[39m\u001b[32m3\u001b[39m \u001b[43mmut_string\u001b[49m\u001b[43m[\u001b[49m\u001b[32;43m0\u001b[39;49m\u001b[43m]\u001b[49m = \u001b[33m\"\u001b[39m\u001b[33mw\u001b[39m\u001b[33m\"\u001b[39m\n",
      "\u001b[31mTypeError\u001b[39m: 'str' object does not support item assignment"
     ]
    }
   ],
   "source": [
    "# Answer: \n",
    "mut_string = \"mutation\"\n",
    "mut_string[0] = \"w\""
   ]
  },
  {
   "cell_type": "markdown",
   "id": "f119016d",
   "metadata": {},
   "source": [
    "Strings are _immutable_. So are numbers (duh, it would be bad if you could make a 7 into an 8, wouldn't it!). Tuples behave that way too!\n",
    "\n",
    "Lists, arrays, or dictionaries, on the other hand, are _mutable_. You can change their content after creation.\n",
    "\n",
    "<div class=\"alert alert-success\">\n",
    "    <b>EXERCISE</b>:\n",
    "     <ul>\n",
    "     <li> Try and change a value in my_matrix!</li>\n",
    "     </ul>\n",
    "</div>\n"
   ]
  },
  {
   "cell_type": "code",
   "execution_count": 107,
   "id": "4722fcae",
   "metadata": {},
   "outputs": [
    {
     "name": "stdout",
     "output_type": "stream",
     "text": [
      "[[100   4   0]\n",
      " [  2   3   0]\n",
      " [  1   2   0]]\n"
     ]
    }
   ],
   "source": [
    "# Answer\n",
    "my_matrix[0,0] = 100\n",
    "print(my_matrix)"
   ]
  },
  {
   "cell_type": "markdown",
   "id": "b1a1cfac",
   "metadata": {},
   "source": [
    "Now it gets a little more intricate. Especially for MATLAB users, mutable objects can behave a little unpredictable at first.\n",
    "\n",
    "This has to do with **reference objects**. Everything in Python is a reference. And objects can have more than one reference!\n",
    "\n",
    "Sounds confusing? Think of references as names: You can be called Gabriela or Gaby - same person still. \n",
    "\n",
    "Let's look at this more closely:"
   ]
  },
  {
   "cell_type": "code",
   "execution_count": 62,
   "id": "65c59872",
   "metadata": {},
   "outputs": [],
   "source": [
    "list_a = [1, 2, 3]  # we create an object that we call list_a\n",
    "list_b = list_a  # In MATLAB this would COPY the object. In Python, it means: list_a is now also called list_b\n",
    "\n",
    "# we change list_b:\n",
    "list_b[2] = 'surprise!'"
   ]
  },
  {
   "cell_type": "markdown",
   "id": "932b197a",
   "metadata": {},
   "source": [
    "<div class=\"alert alert-warning\">\n",
    "    <b>QUESTION</b>:\n",
    "     <ul>\n",
    "     <li> What do you expect list_a to look like now?</li>\n",
    "     </ul>\n",
    "</div>"
   ]
  },
  {
   "cell_type": "code",
   "execution_count": 63,
   "id": "cf794110",
   "metadata": {},
   "outputs": [
    {
     "name": "stdout",
     "output_type": "stream",
     "text": [
      "[1, 2, 'surprise!']\n"
     ]
    }
   ],
   "source": [
    "# Answer:\n",
    "print(list_a) "
   ]
  },
  {
   "cell_type": "markdown",
   "id": "62d64f1b",
   "metadata": {},
   "source": [
    "We can \"prove\" that `list_a` and `list_b` refer to the same object when looking at their object ID:"
   ]
  },
  {
   "cell_type": "code",
   "execution_count": 64,
   "id": "8c4450ec",
   "metadata": {},
   "outputs": [
    {
     "name": "stdout",
     "output_type": "stream",
     "text": [
      "2939861628800\n",
      "2939861628800\n"
     ]
    }
   ],
   "source": [
    "print(id(list_a))\n",
    "print(id(list_b))"
   ]
  },
  {
   "cell_type": "markdown",
   "id": "0120806d",
   "metadata": {},
   "source": [
    "## Flow control: for if and else ...\n",
    "\n",
    "You are probably familiar with for-loops and if-else statements from MATLAB. So let's focus on the difference syntax between them.\n",
    "\n",
    "First, **indentation matters**: it's part of the syntax."
   ]
  },
  {
   "cell_type": "code",
   "execution_count": 65,
   "id": "b971543f",
   "metadata": {},
   "outputs": [
    {
     "name": "stdout",
     "output_type": "stream",
     "text": [
      "1\n",
      "2\n",
      "3\n"
     ]
    }
   ],
   "source": [
    "for ii in [1, 2, 3]:\n",
    "    print(ii)   # this line NEEDS to be one level in!"
   ]
  },
  {
   "cell_type": "code",
   "execution_count": 66,
   "id": "6f749c41",
   "metadata": {},
   "outputs": [
    {
     "name": "stdout",
     "output_type": "stream",
     "text": [
      "nope!\n",
      "2\n",
      "nope!\n"
     ]
    }
   ],
   "source": [
    "for ii in [1, 2, 3]:\n",
    "    if ii == 2:\n",
    "        print(ii)  # the same holds when we look at several nested levels\n",
    "    else:\n",
    "        print('nope!')"
   ]
  },
  {
   "cell_type": "markdown",
   "id": "4209a598",
   "metadata": {},
   "source": [
    "I promised one of my favourite Python \"tricks\" with respect to lists - here we are!\n",
    "\n",
    "When writing for-loops, lists are a common choice of output. For example:"
   ]
  },
  {
   "cell_type": "code",
   "execution_count": 67,
   "id": "957ee77e",
   "metadata": {},
   "outputs": [
    {
     "name": "stdout",
     "output_type": "stream",
     "text": [
      "[7, 8, 3]\n"
     ]
    }
   ],
   "source": [
    "# Let's count the number of letters in a list of animals\n",
    "animals = [\"giraffe\", \"elephant\", \"fox\"]\n",
    "\n",
    "letters = []  # we pre-allocate an empty list\n",
    "for item in animals:\n",
    "    letters.append(len(item))\n",
    "\n",
    "print(letters)"
   ]
  },
  {
   "cell_type": "markdown",
   "id": "a47fb160",
   "metadata": {},
   "source": [
    "This is a bit bulky, with having to pre-allocate the list such that we can append to it in the loop. \n",
    "\n",
    "You can do this *in one line* instead! It's called a **list comprehension**:"
   ]
  },
  {
   "cell_type": "code",
   "execution_count": 68,
   "id": "4ce5e2a9",
   "metadata": {},
   "outputs": [
    {
     "name": "stdout",
     "output_type": "stream",
     "text": [
      "[7, 8, 3]\n"
     ]
    }
   ],
   "source": [
    "letters = [len(item) for item in animals]\n",
    "print(letters)"
   ]
  },
  {
   "cell_type": "markdown",
   "id": "b9bedc83",
   "metadata": {},
   "source": [
    "Isn't that absolutely elegant? \n",
    "\n",
    "You can even add conditions:"
   ]
  },
  {
   "cell_type": "code",
   "execution_count": 69,
   "id": "061f118f",
   "metadata": {},
   "outputs": [
    {
     "name": "stdout",
     "output_type": "stream",
     "text": [
      "[7, 8, 0]\n"
     ]
    }
   ],
   "source": [
    "letters = [len(item) if len(item) > 3 else 0 for item in animals]\n",
    "print(letters)"
   ]
  },
  {
   "cell_type": "markdown",
   "id": "b05e782d",
   "metadata": {},
   "source": [
    "Another cool thing in Python: you can loop directly over objects, no need to index as you would do in MATLAB.\n",
    "\n",
    "Consider the following:"
   ]
  },
  {
   "cell_type": "code",
   "execution_count": 74,
   "id": "cbe14c90",
   "metadata": {},
   "outputs": [
    {
     "name": "stdout",
     "output_type": "stream",
     "text": [
      "[100   4   0]\n",
      "[2 3 0]\n",
      "[1 2 0]\n"
     ]
    }
   ],
   "source": [
    "for my_row in my_matrix:\n",
    "    print(my_row)"
   ]
  },
  {
   "cell_type": "markdown",
   "id": "dba6ad7c",
   "metadata": {},
   "source": [
    "Now it becomes trickier. \n",
    "\n",
    "<div class=\"alert alert-success\">\n",
    "    <b>EXERCISE</b>:\n",
    "     <ul>\n",
    "     <li> Write a for loop which changes the last element of my_row to be always 0. </li>\n",
    "     <li> What do you expect my_matrix to look like after the for-loop is finished?</li>\n",
    "     </ul>\n",
    "</div>"
   ]
  },
  {
   "cell_type": "code",
   "execution_count": 108,
   "id": "e82b61f5",
   "metadata": {},
   "outputs": [
    {
     "name": "stdout",
     "output_type": "stream",
     "text": [
      "[[100   4   0]\n",
      " [  2   3   0]\n",
      " [  1   2   0]]\n"
     ]
    }
   ],
   "source": [
    "# Answer:\n",
    "for change_row in my_matrix:\n",
    "    change_row[-1] = 0\n",
    "\n",
    "#my_matrix[:,2] = 9\n",
    "print(my_matrix)"
   ]
  },
  {
   "cell_type": "markdown",
   "id": "0de99b89",
   "metadata": {},
   "source": [
    "Now consider the follwing example:\n",
    "\n",
    "<div class=\"alert alert-warning\">\n",
    "    <b>QUESTION</b>:\n",
    "     <ul>\n",
    "     <li> What do you expect my_matrix to look like now?</li>\n",
    "     </ul>\n",
    "</div>"
   ]
  },
  {
   "cell_type": "code",
   "execution_count": 105,
   "id": "44be741e",
   "metadata": {},
   "outputs": [],
   "source": [
    "my_new_row = my_row\n",
    "for my_row in my_matrix:\n",
    "    my_new_row = my_row * 2\n",
    "    my_row = my_new_row"
   ]
  },
  {
   "cell_type": "code",
   "execution_count": 106,
   "id": "2259f40c",
   "metadata": {},
   "outputs": [
    {
     "name": "stdout",
     "output_type": "stream",
     "text": [
      "[[100   4   0]\n",
      " [  2   3   0]\n",
      " [  1   2   0]]\n"
     ]
    }
   ],
   "source": [
    "print(my_matrix)\n"
   ]
  },
  {
   "cell_type": "markdown",
   "id": "2b851427",
   "metadata": {},
   "source": [
    "Here, `my_matrix` stays unchanged. You said nowhere that `my_row` is now called `my_new_row`! \n",
    "\n",
    "<div class=\"alert alert-success\">\n",
    "    <b>EXERCISE</b>:\n",
    "     <ul>\n",
    "     <li> Can you change the code such that my_matrix is changed after all?</li>\n",
    "     </ul>\n",
    "</div>"
   ]
  },
  {
   "cell_type": "code",
   "execution_count": 116,
   "id": "0662df2a",
   "metadata": {},
   "outputs": [
    {
     "name": "stdout",
     "output_type": "stream",
     "text": [
      "[[3200    8    0]\n",
      " [  64    6    0]\n",
      " [  32    4    0]]\n"
     ]
    }
   ],
   "source": [
    "# Answer:\n",
    "#print(my_matrix * 2)\n",
    "\n",
    "for my_row in my_matrix:\n",
    "    my_row[0] *= 2\n",
    "\n",
    "print(my_matrix)"
   ]
  },
  {
   "cell_type": "markdown",
   "id": "9aeaeb86",
   "metadata": {},
   "source": [
    "## Functions and classes\n",
    "\n",
    "Python does not only have **functions** but also makes a lot of use of **classes**. Let's have a look at both!\n",
    "\n",
    "### Functions\n",
    "\n",
    "From MATLAB, you are probably familiar with **functions**: pieces of code that take input, carry out a specific operation, and then give output. Very handy!\n",
    "\n",
    "Below you find a function to flip a coin.\n",
    "\n",
    "<div class=\"alert alert-success\">\n",
    "    <b>EXERCISE</b>:\n",
    "     <ul>\n",
    "     <li> Study the parts of the function. Which parts do you know from MATLAB, which not?</li>\n",
    "     <li> Call help on this function. What do you see?</li>\n",
    "     <li> Try the function out, does it work? What happens if you switch the mode to \"unfair\"?</li>\n",
    "     <li> Call the function specifying mode='superfair'. What do you observe? And why?</li>\n",
    "     </ul>\n",
    "</div>"
   ]
  },
  {
   "cell_type": "code",
   "execution_count": 117,
   "id": "e9265da7",
   "metadata": {},
   "outputs": [],
   "source": [
    "def coin_flip(mode='trusty'):\n",
    "    \"\"\"Flip a coin!\n",
    "    \n",
    "    Parameters:\n",
    "    mode: string. Can be 'trusty' for a true balanced coin or 'unfair' to always obtain heads.\n",
    "\n",
    "    Returns: \n",
    "    string. heads or tails.\n",
    "    \"\"\"\n",
    "    # The above is called a DOCSTRING. It gives a description of the function as well as\n",
    "    # which parameters the function takes and what it returns.\n",
    "    \n",
    "    from random import choice # we need choice from the random module\n",
    "\n",
    "    # switch mode\n",
    "    if mode == 'trusty':\n",
    "        flip = choice((0,1))\n",
    "    else:\n",
    "        flip = 1\n",
    "    \n",
    "    # we can also write an if-else statement as a one-liner!\n",
    "    out = 'heads' if flip == 1 else 'tails'\n",
    "\n",
    "    # in Python, you have to explicitly RETURN the outcome(s)\n",
    "    return out\n",
    "\n",
    "\n"
   ]
  },
  {
   "cell_type": "markdown",
   "id": "f93c3e37",
   "metadata": {},
   "source": [
    "**Answers:**\n"
   ]
  },
  {
   "cell_type": "code",
   "execution_count": null,
   "id": "985fc032",
   "metadata": {},
   "outputs": [
    {
     "data": {
      "text/plain": [
       "'heads'"
      ]
     },
     "execution_count": 141,
     "metadata": {},
     "output_type": "execute_result"
    }
   ],
   "source": [
    "# Answers\n",
    "coin_flip('trusty')"
   ]
  },
  {
   "cell_type": "markdown",
   "id": "f193935e",
   "metadata": {},
   "source": [
    "When writing functions (or other code), it's a good idea to build in **sanity checks**. Above, we should probably check whether mode is one of the _allowed_ options and throw an error if that is not the case. \n",
    "\n",
    "Python handles [many different Error types](https://docs.python.org/3/library/exceptions.html) - but don't worry about them, this is a distinction mostly relevant for people writing code that is shared with larger groups.\n",
    "\n",
    "In our case, we should raise a `ValueError` - our input argument took a value it should not take.\n",
    "\n",
    "The way to raise an error looks like this:\n",
    "```python\n",
    "raise ValueError('Wrong argument!')\n",
    "```\n",
    "\n",
    "<div class=\"alert alert-success\">\n",
    "    <b>EXERCISE</b>:\n",
    "     <ul>\n",
    "     <li> Can you adapt our function to throw an error if an illegal mode is set?</li>\n",
    "     </ul>\n",
    "</div>"
   ]
  },
  {
   "cell_type": "code",
   "execution_count": 145,
   "id": "15b505f3",
   "metadata": {},
   "outputs": [
    {
     "data": {
      "text/plain": [
       "'heads'"
      ]
     },
     "execution_count": 145,
     "metadata": {},
     "output_type": "execute_result"
    }
   ],
   "source": [
    "# Answer:\n",
    "def coin_flip2(mode='trusty'):\n",
    "    \"\"\"Flip a coin!\n",
    "    \n",
    "    Parameters:\n",
    "    mode: string. Can be 'trusty' for a true balanced coin or 'unfair' to always obtain heads.\n",
    "\n",
    "    Returns: \n",
    "    string. heads or tails.\n",
    "    \"\"\"\n",
    "    # The above is called a DOCSTRING. It gives a description of the function as well as\n",
    "    # which parameters the function takes and what it returns.\n",
    "    \n",
    "    from random import choice # we need choice from the random module\n",
    "\n",
    "    if type(mode) != str:\n",
    "        raise TypeError(\"Mode must be a string.\")\n",
    "\n",
    "    # switch mode\n",
    "    if mode == 'trusty':\n",
    "        flip = choice((0,1))\n",
    "    elif mode == 'unfair':\n",
    "        flip = 1\n",
    "    else:\n",
    "        raise ValueError(\"Mode must be 'trusty' or 'unfair'.\")\n",
    "    \n",
    "    # we can also write an if-else statement as a one-liner!\n",
    "    out = 'heads' if flip == 1 else 'tails'\n",
    "\n",
    "    # in Python, you have to explicitly RETURN the outcome(s)\n",
    "    return out\n",
    "\n",
    "\n",
    "coin_flip2('unfair')"
   ]
  },
  {
   "cell_type": "markdown",
   "id": "94eac308",
   "metadata": {},
   "source": [
    "### Classes\n",
    "\n",
    "Lastly, let's have a look at **classes**. They are handling data and functions _together_, making **objects** with **methods** (functions attached to them).\n",
    "\n",
    "In MNE-Python, you will come a lot across classes - you will use them a lot, but not necessarily create them yourself.\n",
    "\n",
    "However, using classes can be easier with an understanding of what exactly they are.\n",
    "\n",
    "Let's look at an example:"
   ]
  },
  {
   "cell_type": "code",
   "execution_count": 146,
   "id": "d2cfe013",
   "metadata": {},
   "outputs": [],
   "source": [
    "class Epoch:\n",
    "    def __init__(self, time, data):\n",
    "        # first, there is the __init__() function.\n",
    "        # it is used to intialize the object = build it.\n",
    "        # \"self\" refers to the objects itself\n",
    "        self.time = time\n",
    "        self.data = data\n",
    "\n",
    "    def plot(self):\n",
    "        # second, you can have other functions that specify\n",
    "        # what you can do with the object. \n",
    "        # They are called \"methods\"\n",
    "        # Here is one to plot the data!\n",
    "        import matplotlib.pyplot as plt\n",
    "\n",
    "        plt.plot(self.time, self.data)\n",
    "        plt.xlabel('Time')\n",
    "        plt.ylabel('Amplitude')\n",
    "        plt.show()"
   ]
  },
  {
   "cell_type": "markdown",
   "id": "45f436c9",
   "metadata": {},
   "source": [
    "Above, I wrote a simple class to make an Epoch object. It can hold one epoch of data and a time axis.\n",
    "\n",
    "This two things are specified in the `__init__()` function - this is how we always call the recipe to build the object of the class.\n",
    "\n",
    "Let's make an `Epoch` object!"
   ]
  },
  {
   "cell_type": "code",
   "execution_count": 147,
   "id": "aa02285d",
   "metadata": {},
   "outputs": [
    {
     "data": {
      "text/plain": [
       "['__class__',\n",
       " '__delattr__',\n",
       " '__dict__',\n",
       " '__dir__',\n",
       " '__doc__',\n",
       " '__eq__',\n",
       " '__firstlineno__',\n",
       " '__format__',\n",
       " '__ge__',\n",
       " '__getattribute__',\n",
       " '__getstate__',\n",
       " '__gt__',\n",
       " '__hash__',\n",
       " '__init__',\n",
       " '__init_subclass__',\n",
       " '__le__',\n",
       " '__lt__',\n",
       " '__module__',\n",
       " '__ne__',\n",
       " '__new__',\n",
       " '__reduce__',\n",
       " '__reduce_ex__',\n",
       " '__repr__',\n",
       " '__setattr__',\n",
       " '__sizeof__',\n",
       " '__static_attributes__',\n",
       " '__str__',\n",
       " '__subclasshook__',\n",
       " '__weakref__',\n",
       " 'data',\n",
       " 'plot',\n",
       " 'time']"
      ]
     },
     "execution_count": 147,
     "metadata": {},
     "output_type": "execute_result"
    }
   ],
   "source": [
    "time = np.linspace(-0.5, 0.5, 100)  # linspace(start, stop, n)\n",
    "timeseries = np.random.rand(100)\n",
    "\n",
    "my_epoch = Epoch(time, timeseries)  # make our Epoch object - this calls __init__() under the hood\n",
    "\n",
    "dir(my_epoch)  # we can look at what's there"
   ]
  },
  {
   "cell_type": "markdown",
   "id": "8dbd1df8",
   "metadata": {},
   "source": [
    "Now let's look at the method of our class - `Epoch.plot()`.\n",
    "\n"
   ]
  },
  {
   "cell_type": "code",
   "execution_count": 148,
   "id": "4d7b7421",
   "metadata": {},
   "outputs": [
    {
     "data": {
      "image/png": "[encoded data removed]",
      "text/plain": [
       "<Figure size 640x480 with 1 Axes>"
      ]
     },
     "metadata": {},
     "output_type": "display_data"
    }
   ],
   "source": [
    "my_epoch.plot()"
   ]
  },
  {
   "cell_type": "markdown",
   "id": "10e2f28d",
   "metadata": {},
   "source": [
    "This class is already very close to what MNE-Python's classes look and behave like. In fact, there is an MNE-Python class `Epochs`. :)\n",
    "\n",
    "<div class=\"alert alert-success\">\n",
    "    <b>EXERCISE</b>:\n",
    "     <ul>\n",
    "     <li> Look at the __init__() function. What have we forgotten, what can go wrong down the line?</li>\n",
    "     <li> Can you write a method for this function that centers the data around 0?</li>\n",
    "     <li> Can you use your new method on the data and then plot the result?\n",
    "     </ul>\n",
    "</div>"
   ]
  },
  {
   "cell_type": "markdown",
   "id": "c6b8c70f",
   "metadata": {},
   "source": [
    "**Answer:**\n"
   ]
  },
  {
   "cell_type": "code",
   "execution_count": 9,
   "id": "372487e4",
   "metadata": {},
   "outputs": [],
   "source": [
    "# Answer:\n"
   ]
  }
 ],
 "metadata": {
  "kernelspec": {
   "display_name": "mne",
   "language": "python",
   "name": "python3"
  },
  "language_info": {
   "codemirror_mode": {
    "name": "ipython",
    "version": 3
   },
   "file_extension": ".py",
   "mimetype": "text/x-python",
   "name": "python",
   "nbconvert_exporter": "python",
   "pygments_lexer": "ipython3",
   "version": "3.13.5"
  }
 },
 "nbformat": 4,
 "nbformat_minor": 5
}
